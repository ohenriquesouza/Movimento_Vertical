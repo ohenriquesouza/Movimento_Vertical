{
 "cells": [
  {
   "cell_type": "code",
   "execution_count": 1,
   "id": "fcc588a8",
   "metadata": {},
   "outputs": [
    {
     "data": {
      "text/html": [
       "<div id=\"glowscript\" class=\"glowscript\"></div>"
      ],
      "text/plain": [
       "<IPython.core.display.HTML object>"
      ]
     },
     "metadata": {},
     "output_type": "display_data"
    },
    {
     "data": {
      "application/javascript": [
       "if (typeof Jupyter !== \"undefined\") { window.__context = { glowscript_container: $(\"#glowscript\").removeAttr(\"id\")};}else{ element.textContent = ' ';}"
      ],
      "text/plain": [
       "<IPython.core.display.Javascript object>"
      ]
     },
     "metadata": {},
     "output_type": "display_data"
    },
    {
     "data": {
      "application/javascript": [
       "if (typeof Jupyter !== \"undefined\") {require.undef(\"nbextensions/vpython_libraries/glow.min\");}else{element.textContent = ' ';}"
      ],
      "text/plain": [
       "<IPython.core.display.Javascript object>"
      ]
     },
     "metadata": {},
     "output_type": "display_data"
    },
    {
     "data": {
      "application/javascript": [
       "if (typeof Jupyter !== \"undefined\") {require.undef(\"nbextensions/vpython_libraries/glowcomm\");}else{element.textContent = ' ';}"
      ],
      "text/plain": [
       "<IPython.core.display.Javascript object>"
      ]
     },
     "metadata": {},
     "output_type": "display_data"
    },
    {
     "data": {
      "application/javascript": [
       "if (typeof Jupyter !== \"undefined\") {require.undef(\"nbextensions/vpython_libraries/jquery-ui.custom.min\");}else{element.textContent = ' ';}"
      ],
      "text/plain": [
       "<IPython.core.display.Javascript object>"
      ]
     },
     "metadata": {},
     "output_type": "display_data"
    },
    {
     "data": {
      "application/javascript": [
       "if (typeof Jupyter !== \"undefined\") {require([\"nbextensions/vpython_libraries/glow.min\"], function(){console.log(\"GLOW LOADED\");});}else{element.textContent = ' ';}"
      ],
      "text/plain": [
       "<IPython.core.display.Javascript object>"
      ]
     },
     "metadata": {},
     "output_type": "display_data"
    },
    {
     "data": {
      "application/javascript": [
       "if (typeof Jupyter !== \"undefined\") {require([\"nbextensions/vpython_libraries/glowcomm\"], function(){console.log(\"GLOWCOMM LOADED\");});}else{element.textContent = ' ';}"
      ],
      "text/plain": [
       "<IPython.core.display.Javascript object>"
      ]
     },
     "metadata": {},
     "output_type": "display_data"
    },
    {
     "data": {
      "application/javascript": [
       "if (typeof Jupyter !== \"undefined\") {require([\"nbextensions/vpython_libraries/jquery-ui.custom.min\"], function(){console.log(\"JQUERY LOADED\");});}else{element.textContent = ' ';}"
      ],
      "text/plain": [
       "<IPython.core.display.Javascript object>"
      ]
     },
     "metadata": {},
     "output_type": "display_data"
    },
    {
     "name": "stdout",
     "output_type": "stream",
     "text": [
      "Com o valor da força gravitacional =  9.8 , o tempo de voo do objeto foi:  2.04 s\n"
     ]
    }
   ],
   "source": [
    "from vpython import *\n",
    "\n",
    "ball = sphere(pos = vector(0, 0, 0), radius = 0.5, color = color.orange)\n",
    "ground = box(pos = vector(0, 0, 0), size = vector(30, 0.5, 3))\n",
    "\n",
    "#CONFIGURAÇÃO DOS GRAFICOS PLOTADOS\n",
    "\n",
    "G1 = graph(width = 600, height = 300, xtitle='Time (s)', ytitle='Velocity (m/s²)')\n",
    "G2 = graph(width = 600, height = 300, xtitle='Time (s)', ytitle='Position (m)')\n",
    "G3 = graph(width = 600, height = 300, xtitle='Velocity (m/s²)', ytitle='Position (m)')\n",
    "G1 = gcurve(graph = G1, color = color.red)\n",
    "G2 = gcurve(graph = G2, color = color.blue)\n",
    "G3 = gcurve(graph = G3, color = color.red)\n",
    "\n",
    "#CONDIÇÕES INICIAIS (USER INPUT) DO PROBLEMA\n",
    "\n",
    "g = vector(0, -9.8, 0)\n",
    "ball_velocity = vector(0, 10, 0)\n",
    "\n",
    "\n",
    "time = 0\n",
    "dt = 0.001\n",
    "\n",
    "#EQUAÇÕES QUE GARANTEM O MOVIMENTO DO OBJETO\n",
    "\n",
    "while ball.pos.y >= 0:\n",
    "    \n",
    "    rate(500)\n",
    "    ball_velocity = ball_velocity +  g * dt\n",
    "    ball.pos = ball.pos + ball_velocity * dt\n",
    "    time = time + dt\n",
    "    G1.plot(time, ball_velocity.y)\n",
    "    G2.plot(time, ball.pos.y)\n",
    "    G3.plot(ball_velocity.y, ball.pos.y)\n",
    "\n",
    "print('Com o valor da força gravitacional = ',g.y*-1, ', o tempo de voo do objeto foi: ', round(time,2), 's')"
   ]
  },
  {
   "cell_type": "code",
   "execution_count": null,
   "id": "8e3dacda",
   "metadata": {},
   "outputs": [],
   "source": []
  }
 ],
 "metadata": {
  "kernelspec": {
   "display_name": "Python 3 (ipykernel)",
   "language": "python",
   "name": "python3"
  },
  "language_info": {
   "codemirror_mode": {
    "name": "ipython",
    "version": 3
   },
   "file_extension": ".py",
   "mimetype": "text/x-python",
   "name": "python",
   "nbconvert_exporter": "python",
   "pygments_lexer": "ipython3",
   "version": "3.8.10"
  }
 },
 "nbformat": 4,
 "nbformat_minor": 5
}
